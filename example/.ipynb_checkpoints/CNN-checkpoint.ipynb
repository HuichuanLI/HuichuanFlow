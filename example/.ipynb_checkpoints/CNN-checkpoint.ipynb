{
 "cells": [
  {
   "cell_type": "code",
   "execution_count": 1,
   "metadata": {},
   "outputs": [],
   "source": [
    "import sys\n",
    "\n",
    "sys.path.append('../')\n",
    "\n",
    "import numpy as np\n",
    "from sklearn.datasets import fetch_openml\n",
    "from sklearn.preprocessing import OneHotEncoder\n",
    "import HuichuanFlow as ms\n",
    "\n",
    "# 加载MNIST数据集，只取5000个样本\n",
    "from sklearn.datasets import load_digits\n",
    "\n",
    "mnist = load_digits()\n",
    "\n",
    "# 加载MNIST数据集，只取5000个样本\n",
    "X, y = mnist.data, mnist.target\n",
    "\n",
    "X, y = X[:5000] / 255, y.astype(np.int)[:5000]"
   ]
  },
  {
   "cell_type": "code",
   "execution_count": 2,
   "metadata": {},
   "outputs": [],
   "source": [
    "# 将整数形式的标签转换成One-Hot编码\n",
    "oh = OneHotEncoder(sparse=False)\n",
    "one_hot_label = oh.fit_transform(y.reshape(-1, 1))"
   ]
  },
  {
   "cell_type": "code",
   "execution_count": 3,
   "metadata": {},
   "outputs": [],
   "source": [
    "# 输入图像尺寸\n",
    "img_shape = (8, 8)"
   ]
  },
  {
   "cell_type": "code",
   "execution_count": 14,
   "metadata": {},
   "outputs": [],
   "source": [
    "# 输入图像\n",
    "x = ms.core.Variable(img_shape, init=False, trainable=False)\n",
    "\n",
    "# One-Hot标签\n",
    "one_hot = ms.core.Variable(dim=(10, 1), init=False, trainable=False)\n",
    "\n",
    "# 第一卷积层\n",
    "conv1 = ms.layer.conv([x], img_shape, 3, (2, 2), \"ReLU\")\n",
    "\n",
    "# 第一池化层\n",
    "pooling1 = ms.layer.pooling(conv1, (2, 2), (2, 2))\n",
    "\n",
    "# 第二卷积层\n",
    "conv2 = ms.layer.conv(pooling1, (4, 4), 10, (3, 3), \"ReLU\")\n",
    "\n",
    "# 第二池化层\n",
    "pooling2 = ms.layer.pooling(conv2, (2, 2), (2, 2))\n",
    "\n",
    "\n",
    "# 全连接层\n",
    "fc1 = ms.layer.fc(ms.ops.Concat(*pooling2), 40, 10, \"ReLU\")\n",
    "\n",
    "# # 输出层\n",
    "# output = ms.layer.fc(fc1, 20, 10, \"None\")\n",
    "\n",
    "# 分类概率\n",
    "predict = ms.ops.SoftMax(fc1)\n",
    "\n",
    "# 交叉熵损失\n",
    "loss = ms.ops.loss.CrossEntropyWithSoftMax(output, one_hot)\n",
    "\n",
    "# 学习率\n",
    "learning_rate = 0.1\n",
    "\n",
    "# 优化器\n",
    "optimizer = ms.optimizer.Adam(ms.default_graph, loss, learning_rate)\n",
    "\n",
    "# 批大小\n",
    "batch_size = 128\n"
   ]
  },
  {
   "cell_type": "code",
   "execution_count": null,
   "metadata": {
    "scrolled": true
   },
   "outputs": [
    {
     "name": "stdout",
     "output_type": "stream",
     "text": [
      "epoch: 1, iteration: 128, loss: 2.366\n",
      "epoch: 1, iteration: 256, loss: 2.759\n",
      "epoch: 1, iteration: 384, loss: 2.436\n",
      "epoch: 1, iteration: 512, loss: 2.478\n",
      "epoch: 1, iteration: 640, loss: 2.338\n",
      "epoch: 1, iteration: 768, loss: 2.344\n",
      "epoch: 1, iteration: 896, loss: 2.376\n",
      "epoch: 1, iteration: 1024, loss: 2.309\n",
      "epoch: 1, iteration: 1152, loss: 2.321\n",
      "epoch: 1, iteration: 1280, loss: 2.256\n",
      "epoch: 1, iteration: 1408, loss: 2.245\n",
      "epoch: 1, iteration: 1536, loss: 2.111\n",
      "epoch: 1, iteration: 1664, loss: 2.357\n",
      "epoch: 1, iteration: 1792, loss: 2.328\n",
      "epoch: 1, accuracy: 0.100\n",
      "epoch: 2, iteration: 128, loss: 2.554\n",
      "epoch: 2, iteration: 256, loss: 2.292\n",
      "epoch: 2, iteration: 384, loss: 2.061\n",
      "epoch: 2, iteration: 512, loss: 2.101\n",
      "epoch: 2, iteration: 640, loss: 2.279\n",
      "epoch: 2, iteration: 768, loss: 2.238\n",
      "epoch: 2, iteration: 896, loss: 2.490\n"
     ]
    }
   ],
   "source": [
    "# 训练\n",
    "for epoch in range(60):\n",
    "    \n",
    "    batch_count = 0\n",
    "    \n",
    "    for i in range(len(X)):\n",
    "        \n",
    "        feature = np.mat(X[i]).reshape(img_shape)\n",
    "        label = np.mat(one_hot_label[i]).T\n",
    "        \n",
    "        x.set_value(feature)\n",
    "        one_hot.set_value(label)\n",
    "        \n",
    "\n",
    "        optimizer.one_step()\n",
    "        \n",
    "\n",
    "        batch_count += 1\n",
    "        if batch_count >= batch_size:\n",
    "            \n",
    "            print(\"epoch: {:d}, iteration: {:d}, loss: {:.3f}\".format(epoch + 1, i + 1, loss.value[0, 0]))\n",
    "\n",
    "            optimizer.update()\n",
    "            batch_count = 0\n",
    "        \n",
    "\n",
    "    pred = []\n",
    "    for i in range(len(X)):\n",
    "                \n",
    "        feature = np.mat(X[i]).reshape(img_shape)\n",
    "        x.set_value(feature)\n",
    "        \n",
    "        predict.forward()\n",
    "        pred.append(predict.value.A.ravel())\n",
    "            \n",
    "    pred = np.array(pred).argmax(axis=1)\n",
    "    accuracy = (y == pred).astype(np.int).sum() / len(X)\n",
    "       \n",
    "    print(\"epoch: {:d}, accuracy: {:.3f}\".format(epoch + 1, accuracy))\n"
   ]
  },
  {
   "cell_type": "code",
   "execution_count": null,
   "metadata": {},
   "outputs": [],
   "source": []
  }
 ],
 "metadata": {
  "kernelspec": {
   "display_name": "Python 3",
   "language": "python",
   "name": "python3"
  },
  "language_info": {
   "codemirror_mode": {
    "name": "ipython",
    "version": 3
   },
   "file_extension": ".py",
   "mimetype": "text/x-python",
   "name": "python",
   "nbconvert_exporter": "python",
   "pygments_lexer": "ipython3",
   "version": "3.7.3"
  }
 },
 "nbformat": 4,
 "nbformat_minor": 2
}
