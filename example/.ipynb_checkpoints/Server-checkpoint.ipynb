{
 "cells": [
  {
   "cell_type": "code",
   "execution_count": 1,
   "metadata": {},
   "outputs": [
    {
     "name": "stdout",
     "output_type": "stream",
     "text": [
      "<class 'HuichuanFlow_serving.serving.serving.HuichuanFlowServingService'>\n",
      "Target node Variable:0 of type Variable not exists, try to create the instance\n",
      "Target node Variable:1 of type Variable not exists, try to create the instance\n",
      "Target node Variable:2 of type Variable not exists, try to create the instance\n",
      "Target node Variable:3 of type Variable not exists, try to create the instance\n",
      "Target node MatMul:4 of type MatMul not exists, try to create the instance\n",
      "Target node Add:5 of type Add not exists, try to create the instance\n",
      "Target node Logistic:6 of type Logistic not exists, try to create the instance\n",
      "Target node MatMul:7 of type MatMul not exists, try to create the instance\n",
      "Target node LogLoss:8 of type LogLoss not exists, try to create the instance\n",
      "Load and restore model from ./epoches20/my_model.json and ./epoches20/my_weights.npz\n",
      "MatrixSlow server running on 127.0.0.1:5000\n"
     ]
    }
   ],
   "source": [
    "# -*- coding:utf-8 -*-\n",
    "# @Time : 2020/12/29 7:20 下午\n",
    "# @Author : huichuan LI\n",
    "# @File : serving.py\n",
    "# @Software: PyCharm\n",
    "import sys\n",
    "\n",
    "sys.path.append('../')\n",
    "\n",
    "import HuichuanFlow_serving as hfs\n",
    "\n",
    "print(hfs.serving.HuichuanFlowServingService)\n",
    "\n",
    "serving = hfs.serving.HuichuanFLowServer(\n",
    "    host='127.0.0.1:5000', root_dir='./epoches20', model_file_name='my_model.json', weights_file_name='my_weights.npz')\n",
    "\n",
    "serving.serve()\n"
   ]
  }
 ],
 "metadata": {
  "kernelspec": {
   "display_name": "Python 3",
   "language": "python",
   "name": "python3"
  },
  "language_info": {
   "codemirror_mode": {
    "name": "ipython",
    "version": 3
   },
   "file_extension": ".py",
   "mimetype": "text/x-python",
   "name": "python",
   "nbconvert_exporter": "python",
   "pygments_lexer": "ipython3",
   "version": "3.7.5"
  }
 },
 "nbformat": 4,
 "nbformat_minor": 2
}
