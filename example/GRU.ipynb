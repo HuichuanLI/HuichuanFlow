{
 "cells": [
  {
   "cell_type": "code",
   "execution_count": 1,
   "metadata": {},
   "outputs": [],
   "source": [
    "from scipy import signal\n",
    "import numpy as np\n",
    "import matplotlib.pyplot as plt\n",
    "# 构造正弦波和方波两类样本的函数 \n",
    "def get_sequence_data(dimension=10, length=10,\n",
    "                      number_of_examples=1000, train_set_ratio=0.7, seed=42):\n",
    "    \"\"\"\n",
    "    生成两类序列数据。\n",
    "    \"\"\"\n",
    "    xx = []\n",
    "\n",
    "    # 正弦波\n",
    "    xx.append(np.sin(np.arange(0, 10, 10 / length)).reshape(-1, 1))\n",
    "\n",
    "    # 方波\n",
    "    xx.append(np.array(signal.square(np.arange(0, 10, 10 / length))).reshape(-1, 1))\n",
    "    \n",
    "    \n",
    "    data = []\n",
    "    for i in range(2):\n",
    "        x = xx[i]\n",
    "        for j in range(number_of_examples // 2):\n",
    "            sequence = x + np.random.normal(0, 0.6, (len(x), dimension))  # 加入噪声\n",
    "            label = np.array([int(i == k) for k in range(2)])\n",
    "            data.append(np.c_[sequence.reshape(1, -1), label.reshape(1, -1)])\n",
    "\n",
    "    # 把各个类别的样本合在一起\n",
    "    data = np.concatenate(data, axis=0)\n",
    "    print(data[0].shape)\n",
    "\n",
    "    # 随机打乱样本顺序\n",
    "    np.random.shuffle(data)\n",
    "\n",
    "    # 计算训练样本数量\n",
    "    train_set_size = int(number_of_examples * train_set_ratio)  # 训练集样本数量\n",
    "    plt.plot(np.arange(0,len(data[1,:-2])),data[1,:-2])\n",
    "\n",
    "    # 将训练集和测试集、特征和标签分开\n",
    "    return (data[:train_set_size, :-2].reshape(-1, length, dimension),\n",
    "            data[:train_set_size, -2:],\n",
    "            data[train_set_size:, :-2].reshape(-1, length, dimension),\n",
    "            data[train_set_size:, -2:])"
   ]
  },
  {
   "cell_type": "code",
   "execution_count": 2,
   "metadata": {},
   "outputs": [
    {
     "name": "stdout",
     "output_type": "stream",
     "text": [
      "(102,)\n"
     ]
    },
    {
     "data": {
      "image/png": "[encoded data removed]",
      "text/plain": [
       "<Figure size 432x288 with 1 Axes>"
      ]
     },
     "metadata": {
      "needs_background": "light"
     },
     "output_type": "display_data"
    }
   ],
   "source": [
    "# 构造RNN\n",
    "seq_len = 10  # 序列长度\n",
    "dimension = 10  # 输入维度\n",
    "status_dimension = 2  # 状态维度\n",
    "\n",
    "signal_train, label_train, signal_test, label_test = get_sequence_data(length=seq_len, dimension=dimension)\n"
   ]
  },
  {
   "cell_type": "code",
   "execution_count": 3,
   "metadata": {},
   "outputs": [],
   "source": [
    "import sys\n",
    "sys.path.append('../')\n",
    "import HuichuanFlow as hf\n",
    "\n",
    "# 输入向量节点\n",
    "inputs = [hf.core.Variable(dim=(dimension, 1), init=False, trainable=False) for i in range(seq_len)]\n",
    " \n",
    "# 输入门\n",
    "# 输入权值矩阵\n",
    "U_z = hf.core.Variable(dim=(status_dimension, dimension), init=True, trainable=True)\n",
    "\n",
    "# 状态权值矩阵\n",
    "W_z = hf.core.Variable(dim=(status_dimension, status_dimension), init=True, trainable=True)\n",
    "\n",
    "# 偏置向量\n",
    "b_z = hf.core.Variable(dim=(status_dimension, 1), init=True, trainable=True)\n",
    "\n",
    "\n",
    "# 输出门\n",
    "# 输入权值矩阵\n",
    "U_r = hf.core.Variable(dim=(status_dimension, dimension), init=True, trainable=True)\n",
    "\n",
    "# 状态权值矩阵\n",
    "W_r = hf.core.Variable(dim=(status_dimension, status_dimension), init=True, trainable=True)\n",
    "\n",
    "# 偏置向量\n",
    "b_r = hf.core.Variable(dim=(status_dimension, 1), init=True, trainable=True)\n",
    "\n",
    "\n",
    "\n",
    "\n",
    "\n",
    "U_x = hf.core.Variable(dim=(status_dimension, dimension), init=True, trainable=True)\n",
    "W_x =  hf.core.Variable(dim=(status_dimension, status_dimension), init=True, trainable=True)\n"
   ]
  },
  {
   "cell_type": "code",
   "execution_count": 14,
   "metadata": {},
   "outputs": [
    {
     "name": "stdout",
     "output_type": "stream",
     "text": [
      "ok\n",
      "ok\n",
      "ok\n",
      "ok\n",
      "ok\n",
      "ok\n",
      "ok\n",
      "ok\n",
      "ok\n",
      "ok\n"
     ]
    }
   ],
   "source": [
    "last_step = None  # 上一步的输出，第一步没有上一步，先将其置为 None\n",
    "for iv in inputs:\n",
    "    z = hf.ops.Add(hf.ops.MatMul(U_z, iv), b_z)\n",
    "    r = hf.ops.Add(hf.ops.MatMul(U_r, iv), b_r)\n",
    "    h_t = hf.ops.MatMul(U_x,iv)\n",
    "\n",
    "    if last_step is not None:\n",
    "        z = hf.ops.Add(hf.ops.MatMul(W_z, last_step), z)\n",
    "        r = hf.ops.Add(hf.ops.MatMul(W_r, last_step), r)\n",
    "    z = hf.ops.Logistic(z)\n",
    "    r = hf.ops.Logistic(r)\n",
    "    print(\"ok\")\n",
    "    if last_step is not None: \n",
    "        h_t = hf.ops.Add(hf.ops.MatMul(W_x,hf.ops.Multiply(r,last_step)),h_t)\n",
    "    h_t = hf.ops.ReLU(h_t)\n",
    "    h = hf.ops.Multiply(z,h_t)\n",
    "    last_step = h"
   ]
  },
  {
   "cell_type": "code",
   "execution_count": 18,
   "metadata": {},
   "outputs": [],
   "source": [
    "fc1 = hf.layer.fc(last_step, status_dimension, 12, \"ReLU\")  # 第一全连接层\n",
    "# fc2 = hf.layer.fc(fc1, 40, 10, \"ReLU\")  # 第二全连接层\n",
    "output = hf.layer.fc(fc1, 12, 2, \"None\")  # 输出层"
   ]
  },
  {
   "cell_type": "code",
   "execution_count": 19,
   "metadata": {},
   "outputs": [],
   "source": [
    "# 概率\n",
    "predict = hf.ops.Logistic(output)\n",
    "\n",
    "# 训练标签\n",
    "label = hf.core.Variable((2, 1), trainable=False)\n",
    "\n",
    "# 交叉熵损失\n",
    "loss = hf.ops.CrossEntropyWithSoftMax(output, label)"
   ]
  },
  {
   "cell_type": "code",
   "execution_count": null,
   "metadata": {
    "scrolled": true
   },
   "outputs": [
    {
     "name": "stdout",
     "output_type": "stream",
     "text": [
      "epoch: 1, iteration: 1, loss: 0.694\n",
      "epoch: 1, iteration: 2, loss: 0.697\n",
      "epoch: 1, iteration: 3, loss: 0.686\n",
      "epoch: 1, iteration: 4, loss: 0.705\n",
      "epoch: 1, iteration: 5, loss: 0.708\n",
      "epoch: 1, iteration: 6, loss: 0.710\n"
     ]
    }
   ],
   "source": [
    "# 训练\n",
    "learning_rate = 0.005\n",
    "optimizer = hf.optimizer.Adam(hf.default_graph, loss, learning_rate)\n",
    "\n",
    "batch_size = 1\n",
    "\n",
    "for epoch in range(50):\n",
    "    \n",
    "    batch_count = 0   \n",
    "    for i, s in enumerate(signal_train):\n",
    "        \n",
    "        # 将每个样本各时刻的向量赋给相应变量\n",
    "        for j, x in enumerate(inputs):\n",
    "            x.set_value(np.mat(s[j]).T)\n",
    "        \n",
    "        label.set_value(np.mat(label_train[i, :]).T)\n",
    "        \n",
    "        optimizer.one_step()\n",
    "        \n",
    "        batch_count += 1\n",
    "        if batch_count >= batch_size:\n",
    "            \n",
    "            print(\"epoch: {:d}, iteration: {:d}, loss: {:.3f}\".format(epoch + 1, i + 1, loss.value[0, 0]))\n",
    "\n",
    "            \n",
    "            optimizer.update()\n",
    "            batch_count = 0\n",
    "        \n",
    "\n",
    "    pred = []\n",
    "    for i, s in enumerate(signal_test):\n",
    "                \n",
    "        # 将每个样本各时刻的向量赋给相应变量\n",
    "        for j, x in enumerate(inputs):\n",
    "            x.set_value(np.mat(s[j]).T)\n",
    "\n",
    "        predict.forward()\n",
    "        pred.append(predict.value.A.ravel())\n",
    "            \n",
    "    pred = np.array(pred).argmax(axis=1)\n",
    "    true = label_test.argmax(axis=1)\n",
    "    \n",
    "    accuracy = (true == pred).astype(np.int).sum() / len(signal_test)\n",
    "    print(\"epoch: {:d}, accuracy: {:.5f}\".format(epoch + 1, accuracy))"
   ]
  },
  {
   "cell_type": "code",
   "execution_count": null,
   "metadata": {},
   "outputs": [],
   "source": []
  }
 ],
 "metadata": {
  "kernelspec": {
   "display_name": "Python 3",
   "language": "python",
   "name": "python3"
  },
  "language_info": {
   "codemirror_mode": {
    "name": "ipython",
    "version": 3
   },
   "file_extension": ".py",
   "mimetype": "text/x-python",
   "name": "python",
   "nbconvert_exporter": "python",
   "pygments_lexer": "ipython3",
   "version": "3.7.3"
  }
 },
 "nbformat": 4,
 "nbformat_minor": 2
}
