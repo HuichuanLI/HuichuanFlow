{
 "cells": [
  {
   "cell_type": "code",
   "execution_count": 2,
   "metadata": {},
   "outputs": [
    {
     "name": "stdout",
     "output_type": "stream",
     "text": [
      "<class 'HuichuanFlow_serving.serving.serving.HuichuanFlowServingService'>\n",
      "Load and restore model from ./epoches20/my_model.json and ./epoches20/my_weights.npz\n",
      "MatrixSlow server running on 127.0.0.1:5000\n"
     ]
    }
   ],
   "source": [
    "# -*- coding:utf-8 -*-\n",
    "# @Time : 2020/12/29 7:20 下午\n",
    "# @Author : huichuan LI\n",
    "# @File : serving.py\n",
    "# @Software: PyCharm\n",
    "import sys\n",
    "\n",
    "sys.path.append('../')\n",
    "\n",
    "import HuichuanFlow_serving as hfs\n",
    "\n",
    "print(hfs.serving.HuichuanFlowServingService)\n",
    "\n",
    "serving = hfs.serving.HuichuanFLowServer(\n",
    "    host='127.0.0.1:5000', root_dir='./epoches20', model_file_name='my_model.json', weights_file_name='my_weights.npz')\n",
    "\n",
    "serving.serve()\n"
   ]
  },
  {
   "cell_type": "code",
   "execution_count": null,
   "metadata": {},
   "outputs": [],
   "source": []
  }
 ],
 "metadata": {
  "kernelspec": {
   "display_name": "Python 3",
   "language": "python",
   "name": "python3"
  },
  "language_info": {
   "codemirror_mode": {
    "name": "ipython",
    "version": 3
   },
   "file_extension": ".py",
   "mimetype": "text/x-python",
   "name": "python",
   "nbconvert_exporter": "python",
   "pygments_lexer": "ipython3",
   "version": "3.7.5"
  }
 },
 "nbformat": 4,
 "nbformat_minor": 2
}
