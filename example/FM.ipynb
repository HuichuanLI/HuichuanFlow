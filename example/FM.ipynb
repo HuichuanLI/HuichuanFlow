{
 "cells": [
  {
   "cell_type": "code",
   "execution_count": 3,
   "metadata": {},
   "outputs": [
    {
     "name": "stdout",
     "output_type": "stream",
     "text": [
      "epoch: 1, accuracy: 0.548\n",
      "epoch: 2, accuracy: 0.613\n",
      "epoch: 3, accuracy: 0.647\n",
      "epoch: 4, accuracy: 0.678\n",
      "epoch: 5, accuracy: 0.685\n",
      "epoch: 6, accuracy: 0.692\n",
      "epoch: 7, accuracy: 0.707\n",
      "epoch: 8, accuracy: 0.718\n",
      "epoch: 9, accuracy: 0.720\n",
      "epoch: 10, accuracy: 0.733\n",
      "epoch: 11, accuracy: 0.743\n",
      "epoch: 12, accuracy: 0.747\n",
      "epoch: 13, accuracy: 0.752\n",
      "epoch: 14, accuracy: 0.760\n",
      "epoch: 15, accuracy: 0.773\n",
      "epoch: 16, accuracy: 0.782\n",
      "epoch: 17, accuracy: 0.788\n",
      "epoch: 18, accuracy: 0.787\n",
      "epoch: 19, accuracy: 0.795\n",
      "epoch: 20, accuracy: 0.797\n",
      "epoch: 21, accuracy: 0.803\n",
      "epoch: 22, accuracy: 0.813\n",
      "epoch: 23, accuracy: 0.818\n",
      "epoch: 24, accuracy: 0.830\n",
      "epoch: 25, accuracy: 0.835\n",
      "epoch: 26, accuracy: 0.835\n",
      "epoch: 27, accuracy: 0.840\n",
      "epoch: 28, accuracy: 0.842\n",
      "epoch: 29, accuracy: 0.845\n",
      "epoch: 30, accuracy: 0.850\n",
      "epoch: 31, accuracy: 0.853\n",
      "epoch: 32, accuracy: 0.858\n",
      "epoch: 33, accuracy: 0.857\n",
      "epoch: 34, accuracy: 0.865\n",
      "epoch: 35, accuracy: 0.865\n",
      "epoch: 36, accuracy: 0.868\n",
      "epoch: 37, accuracy: 0.873\n",
      "epoch: 38, accuracy: 0.873\n",
      "epoch: 39, accuracy: 0.875\n",
      "epoch: 40, accuracy: 0.877\n",
      "epoch: 41, accuracy: 0.880\n",
      "epoch: 42, accuracy: 0.882\n",
      "epoch: 43, accuracy: 0.883\n",
      "epoch: 44, accuracy: 0.885\n",
      "epoch: 45, accuracy: 0.887\n",
      "epoch: 46, accuracy: 0.888\n",
      "epoch: 47, accuracy: 0.888\n",
      "epoch: 48, accuracy: 0.892\n",
      "epoch: 49, accuracy: 0.897\n",
      "epoch: 50, accuracy: 0.902\n"
     ]
    }
   ],
   "source": [
    "import sys\n",
    "sys.path.append('../')\n",
    "\n",
    "import numpy as np\n",
    "from sklearn.datasets import make_circles\n",
    "import HuichuanFlow as ms\n",
    "\n",
    "X, y = make_circles(600, noise=0.1, factor=0.2)\n",
    "y = y * 2 - 1\n",
    "\n",
    "# 特征维数\n",
    "dimension = 20\n",
    "\n",
    "# 构造噪声特征\n",
    "X = np.concatenate([X, np.random.normal(0.0, 0.5, (600, dimension-2))], axis=1)\n",
    "\n",
    "# 隐藏向量维度\n",
    "k = 2\n",
    "\n",
    "# 一次项\n",
    "x1 = ms.core.Variable(dim=(dimension, 1), init=False, trainable=False)\n",
    "\n",
    "# 标签\n",
    "label = ms.core.Variable(dim=(1, 1), init=False, trainable=False)\n",
    "\n",
    "# 一次项权值向量\n",
    "w = ms.core.Variable(dim=(1, dimension), init=True, trainable=True)\n",
    "\n",
    "# 隐藏向量矩阵\n",
    "H = ms.core.Variable(dim=(k, dimension), init=True, trainable=True)\n",
    "HTH = ms.ops.MatMul(ms.ops.Reshape(H, shape=(dimension, k)), H)\n",
    "\n",
    "# 偏置\n",
    "b = ms.core.Variable(dim=(1, 1), init=True, trainable=True)\n",
    "\n",
    "# 线性部分\n",
    "output = ms.ops.Add(\n",
    "        ms.ops.MatMul(w, x1),   # 一次部分\n",
    "        \n",
    "        # 二次部分\n",
    "        ms.ops.MatMul(ms.ops.Reshape(x1, shape=(1, dimension)),\n",
    "                      ms.ops.MatMul(HTH, x1)),\n",
    "        b)\n",
    "\n",
    "# 预测概率\n",
    "predict = ms.ops.Logistic(output)\n",
    "\n",
    "# 损失函数\n",
    "loss = ms.ops.loss.LogLoss(ms.ops.MatMul(label, output))\n",
    "\n",
    "learning_rate = 0.001\n",
    "optimizer = ms.optimizer.Adam(ms.default_graph, loss, learning_rate)\n",
    "\n",
    "\n",
    "batch_size = 16\n",
    "\n",
    "for epoch in range(50):\n",
    "    \n",
    "    batch_count = 0   \n",
    "    for i in range(len(X)):\n",
    "        \n",
    "        x1.set_value(np.mat(X[i]).T)\n",
    "        label.set_value(np.mat(y[i]))\n",
    "        \n",
    "        optimizer.one_step()\n",
    "        \n",
    "        batch_count += 1\n",
    "        if batch_count >= batch_size:\n",
    "            \n",
    "            optimizer.update()\n",
    "            batch_count = 0\n",
    "        \n",
    "\n",
    "    pred = []\n",
    "    for i in range(len(X)):\n",
    "                \n",
    "        x1.set_value(np.mat(X[i]).T)\n",
    "        \n",
    "        predict.forward()\n",
    "        pred.append(predict.value[0, 0])\n",
    "            \n",
    "    pred = (np.array(pred) > 0.5).astype(np.int) * 2 - 1\n",
    "    accuracy = (y == pred).astype(np.int).sum() / len(X)\n",
    "       \n",
    "    print(\"epoch: {:d}, accuracy: {:.3f}\".format(epoch + 1, accuracy))"
   ]
  },
  {
   "cell_type": "code",
   "execution_count": 4,
   "metadata": {},
   "outputs": [
    {
     "name": "stdout",
     "output_type": "stream",
     "text": [
      "[[-0.19445295 -1.87596391  1.34071685 -1.23412641  0.33220487 -0.40328118\n",
      "  -0.33026252  0.10348326  0.17097313  0.03204932  0.17384099 -0.11515193\n",
      "  -0.03727271  0.04434071 -0.06973917  0.05023985  0.03314296 -0.02387814\n",
      "   0.1094717   0.02968029]\n",
      " [ 1.07971851  1.08934038 -0.32733876 -0.11010544  0.16876109 -0.11554856\n",
      "   0.14536421  0.02255521  0.07299045 -0.02203485 -0.03659781 -0.02497359\n",
      "  -0.02391062 -0.06308496 -0.12254481 -0.00636658 -0.09143042 -0.04534507\n",
      "   0.10432499  0.37336447]]\n"
     ]
    }
   ],
   "source": [
    "print(H.value)"
   ]
  },
  {
   "cell_type": "code",
   "execution_count": 6,
   "metadata": {},
   "outputs": [
    {
     "name": "stdout",
     "output_type": "stream",
     "text": [
      "(2, 20)\n"
     ]
    }
   ],
   "source": [
    "print(H.value.shape)"
   ]
  },
  {
   "cell_type": "code",
   "execution_count": null,
   "metadata": {},
   "outputs": [],
   "source": []
  }
 ],
 "metadata": {
  "kernelspec": {
   "display_name": "Python 3",
   "language": "python",
   "name": "python3"
  },
  "language_info": {
   "codemirror_mode": {
    "name": "ipython",
    "version": 3
   },
   "file_extension": ".py",
   "mimetype": "text/x-python",
   "name": "python",
   "nbconvert_exporter": "python",
   "pygments_lexer": "ipython3",
   "version": "3.7.3"
  }
 },
 "nbformat": 4,
 "nbformat_minor": 2
}
